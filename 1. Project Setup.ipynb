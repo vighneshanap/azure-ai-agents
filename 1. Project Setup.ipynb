{
 "cells": [
  {
   "cell_type": "markdown",
   "metadata": {},
   "source": [
    "# Lab 1: Set Up the Lab Environment\n",
    "\n",
    "This introductory lab guides the attendees with the following activities:\n",
    "\n",
    "1. Setting up the AI Project in the AI Foundry\n",
    "2. Deploying an LLM and embedding models\n",
    "3. Establish connectivity from VS Code to the AI Project\n",
    "4. Perform a simple Chat completion call to the model\n",
    "\n",
    "Make sure your in azure-ai-agents-labs project directory. Run the below powershell commands to create and activate your virtual environment:\n",
    "\n",
    "python -m venv venv\n",
    "venv/Scripts/activate\n",
    "\n",
    "Run the below powershell command. This installs all the required packages:\n",
    "\n",
    "pip install -r requirements.txt\n",
    "pip install azure-ai-ml azure-identity\n",
    "\n",
    "Run the below powershell command to install or upgrade pip to the latest version.\n",
    "\n",
    "python.exe -m pip install --upgrade pip\n",
    "\n",
    "Run the below command to log into your Azure account.\n",
    "\n",
    "az login\n",
    "\n",
    "Run the below powershell command. This creates your .env file:\n",
    "\n",
    "cp sample.env .env\n",
    "\n"
   ]
  },
  {
   "cell_type": "markdown",
   "metadata": {},
   "source": [
    "#### Step 5: Test your lab environment\n",
    "\n",
    "To test that your lab was setup successfully, run the below code that sends a message to the deployed model, asking it to tell a joke."
   ]
  },
  {
   "cell_type": "code",
   "execution_count": 2,
   "metadata": {},
   "outputs": [
    {
     "data": {
      "text/plain": [
       "True"
      ]
     },
     "execution_count": 2,
     "metadata": {},
     "output_type": "execute_result"
    }
   ],
   "source": [
    "# Import packages\n",
    "import os\n",
    "from azure.ai.projects import AIProjectClient\n",
    "from azure.identity import DefaultAzureCredential\n",
    "from dotenv import load_dotenv\n",
    "\n",
    "load_dotenv() # Load environment variables from .env file"
   ]
  },
  {
   "cell_type": "code",
   "execution_count": 3,
   "metadata": {},
   "outputs": [],
   "source": [
    "# Get the project connection string and model from environment variables, which are needed to make a call to the LLM\n",
    "project_connection_string = os.getenv(\"AIPROJECT_CONNECTION_STRING\")\n",
    "model = os.getenv(\"CHAT_MODEL\")"
   ]
  },
  {
   "cell_type": "code",
   "execution_count": 4,
   "metadata": {},
   "outputs": [],
   "source": [
    "# Use the connection string to connect to your Foundry project\n",
    "project = AIProjectClient.from_connection_string(\n",
    "    conn_str=project_connection_string, credential=DefaultAzureCredential()\n",
    ")"
   ]
  },
  {
   "cell_type": "code",
   "execution_count": 5,
   "metadata": {},
   "outputs": [
    {
     "name": "stdout",
     "output_type": "stream",
     "text": [
      "Sure! Why didn't the teddy bear finish his dessert? Because he was already stuffed!\n"
     ]
    }
   ],
   "source": [
    "# Chat with the gpt-4o model\n",
    "chat = project.inference.get_chat_completions_client()\n",
    "response = chat.complete(\n",
    "    model=model,\n",
    "    messages=[\n",
    "        {\n",
    "            \"role\": \"system\",\n",
    "            \"content\": \"You are an AI assistant that tells jokes for toddlers.\",\n",
    "        },\n",
    "        {\"role\": \"user\", \"content\": \"Hey, can you tell a joke about teddy bear?\"},\n",
    "    ],\n",
    ")\n",
    "\n",
    "print(response.choices[0].message.content)"
   ]
  },
  {
   "cell_type": "code",
   "execution_count": null,
   "metadata": {},
   "outputs": [],
   "source": []
  }
 ],
 "metadata": {
  "kernelspec": {
   "display_name": ".venv",
   "language": "python",
   "name": "python3"
  },
  "language_info": {
   "codemirror_mode": {
    "name": "ipython",
    "version": 3
   },
   "file_extension": ".py",
   "mimetype": "text/x-python",
   "name": "python",
   "nbconvert_exporter": "python",
   "pygments_lexer": "ipython3",
   "version": "3.10.0"
  }
 },
 "nbformat": 4,
 "nbformat_minor": 2
}
