{
 "cells": [
  {
   "cell_type": "markdown",
   "metadata": {},
   "source": [
    "# Lab 3: Build a Search Agent\n",
    "\n",
    "In this lab, we'll use the Azure AI Agent Service to create an agent that is able to retrieve information from documents stored in Azure AI Search, a vector database. This pattern is known as retrieval augmented generation or RAG. The documents that we'll be searching are health insurance policies."
   ]
  },
  {
   "cell_type": "markdown",
   "metadata": {},
   "source": [
    "#### Step 1: Load packages"
   ]
  },
  {
   "cell_type": "code",
   "execution_count": null,
   "metadata": {},
   "outputs": [],
   "source": [
    "import os\n",
    "from dotenv import load_dotenv\n",
    "from azure.ai.projects import AIProjectClient\n",
    "from azure.identity import DefaultAzureCredential\n",
    "from azure.ai.projects.models import AzureAISearchTool\n",
    "\n",
    "load_dotenv() # Loads the environment variables and credentials we need to setup the agent"
   ]
  },
  {
   "cell_type": "markdown",
   "metadata": {},
   "source": [
    "#### Step 2: Connect to your Azure AI Foundry project"
   ]
  },
  {
   "cell_type": "code",
   "execution_count": 2,
   "metadata": {},
   "outputs": [],
   "source": [
    "# Connecting to our Azure AI Foundry project, which will allow us to use the deployed gpt-4o model\n",
    "project_client = AIProjectClient.from_connection_string(\n",
    "    credential=DefaultAzureCredential(),\n",
    "    conn_str=os.environ[\"AIPROJECT_CONNECTION_STRING\"],\n",
    "    )"
   ]
  },
  {
   "cell_type": "markdown",
   "metadata": {},
   "source": [
    "#### Step 3: Connect to your Azure AI Search index"
   ]
  },
  {
   "cell_type": "code",
   "execution_count": null,
   "metadata": {},
   "outputs": [],
   "source": [
    "# Iterate through the connections in your project and get the connection ID of the Aazure AI Search connection.\n",
    "conn_list = project_client.connections.list()\n",
    "conn_id = \"\"\n",
    "for conn in conn_list:\n",
    "    if conn.connection_type == \"CognitiveSearch\":\n",
    "        conn_id = conn.id\n",
    "        print(f\"Connection ID: {conn.id}\")\n",
    "\n",
    "# Connect to your Azure AI Search index\n",
    "ai_search = AzureAISearchTool(index_connection_id=conn_id, index_name=\"health-plan\")"
   ]
  },
  {
   "cell_type": "markdown",
   "metadata": {},
   "source": [
    "#### Step 4: Define the search agent"
   ]
  },
  {
   "cell_type": "code",
   "execution_count": 4,
   "metadata": {},
   "outputs": [],
   "source": [
    "search_agent = project_client.agents.create_agent(\n",
    "    model=\"gpt-4o\",\n",
    "    name=\"search-agent\",\n",
    "    instructions=\"You are a helpful agent that is an expert at searching health plan documents.\",\n",
    "    tools=ai_search.definitions,\n",
    "    tool_resources=ai_search.resources,\n",
    ") "
   ]
  },
  {
   "cell_type": "markdown",
   "metadata": {},
   "source": [
    "#### Step 5: Chat with the search agent\n",
    "\n",
    "Let's test our search agent by asking it to give us information about the Northwind Standard health plan."
   ]
  },
  {
   "cell_type": "code",
   "execution_count": null,
   "metadata": {},
   "outputs": [],
   "source": [
    "# The name of the health plan we want to search for\n",
    "plan_name = 'Northwind Standard'\n",
    "\n",
    "# Create a thread which is a conversation session between an agent and a user. \n",
    "thread = project_client.agents.create_thread()\n",
    "\n",
    "# Create a message in the thread with the user asking for information about a specific health plan\n",
    "message = project_client.agents.create_message(\n",
    "    thread_id=thread.id,\n",
    "    role=\"user\",\n",
    "    content=f\"Tell me about the {plan_name} plan.\", # The user's message\n",
    ")\n",
    "# Run the agent to process tne message in the thread\n",
    "run = project_client.agents.create_and_process_run(thread_id=thread.id, assistant_id=search_agent.id)\n",
    "\n",
    "# Check if the run was successful\n",
    "if run.status == \"failed\":\n",
    "    print(f\"Run failed: {run.last_error}\")\n",
    "\n",
    "# Delete the agent when it's done running\n",
    "project_client.agents.delete_agent(search_agent.id)\n",
    "\n",
    "# Fetch all the messages from the thread\n",
    "messages = project_client.agents.list_messages(thread_id=thread.id)\n",
    "\n",
    "# Get the last message, which is the agent's resposne to the user's question\n",
    "last_msg = messages.get_last_text_message_by_role(\"assistant\")\n",
    "\n",
    "# Display the agent's response\n",
    "print('Agent:', last_msg.text.value)"
   ]
  }
 ],
 "metadata": {
  "kernelspec": {
   "display_name": ".venv",
   "language": "python",
   "name": "python3"
  },
  "language_info": {
   "codemirror_mode": {
    "name": "ipython",
    "version": 3
   },
   "file_extension": ".py",
   "mimetype": "text/x-python",
   "name": "python",
   "nbconvert_exporter": "python",
   "pygments_lexer": "ipython3",
   "version": "3.11.9"
  }
 },
 "nbformat": 4,
 "nbformat_minor": 2
}
